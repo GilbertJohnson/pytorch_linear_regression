{
 "cells": [
  {
   "cell_type": "markdown",
   "metadata": {},
   "source": [
    "### Tensor"
   ]
  },
  {
   "cell_type": "markdown",
   "metadata": {},
   "source": [
    "The basic unit of computation, defined with number of dimensions to represent data or an entity. The dimensions are called rank.\n",
    "eg: A scalar, a vector, or a matrix are dimensioned tensor. A tensor can relate to other tensors, or even they can relate to another vector space."
   ]
  },
  {
   "cell_type": "markdown",
   "metadata": {
    "vscode": {
     "languageId": "plaintext"
    }
   },
   "source": [
    "### Tensor of Pytorch"
   ]
  },
  {
   "cell_type": "markdown",
   "metadata": {},
   "source": [
    "Given classes return tensors of dimensions given<br><br>\n",
    "<code>\n",
    "torch.tensor   --> tensor from a list | numpy array<br> \n",
    "torch.zeros    --> tensor with zeros <br>\n",
    "torch.ones     --> tensor with ones<br>\n",
    "torch.rand     --> tensor with random numbers<br>\n",
    "</code>\n"
   ]
  },
  {
   "cell_type": "markdown",
   "metadata": {
    "vscode": {
     "languageId": "plaintext"
    }
   },
   "source": [
    "### Tensor & Numpy array references\n",
    "\n",
    "PyTorch supports creating tensor from numpy array with <code>torch.from_numpy</code>. This shares the memory and doesn't create a copy for tensor. Hence tensor will use the reference to the numpy array.\n",
    "\n"
   ]
  },
  {
   "cell_type": "markdown",
   "metadata": {},
   "source": [
    "### Tensor data types"
   ]
  },
  {
   "cell_type": "markdown",
   "metadata": {},
   "source": [
    "<code>\n",
    "torch.int<br>\n",
    "torch.float <br>\n",
    "torch.bool <br>\n",
    "torch.complex<br>\n",
    "torch.bfloat<br>\n",
    "</code>\n",
    "Note: 8,16,32,64 bits and signed and unsigned available wherever feasible\n",
    "\n",
    "Reference : <a>https://pytorch.org/docs/stable/tensors.html</a>"
   ]
  },
  {
   "cell_type": "markdown",
   "metadata": {},
   "source": [
    "### Shape, View, Stride, expand"
   ]
  },
  {
   "cell_type": "markdown",
   "metadata": {},
   "source": [
    "- The dimension of the tensor is referred to as shape of the tensor. Reshape is the method used to change the shape of the tensor.\n",
    "- View, a method which returns the given (self) tensor with the given modified shape and it represents how the tensor is viewed.\n",
    "- Stride, is gives the view of how to reach (in numbers) the next element in the tensor in the same dimension.\n",
    "- expand or expand_as, methods are used to expand the dimension of the tensor to work with suitable other tensor"
   ]
  },
  {
   "cell_type": "markdown",
   "metadata": {},
   "source": [
    "#### Indexing\n",
    "Tensor indexing is same as access operator. But it can accept list, numpy array or other tensor representing the row | column"
   ]
  }
 ],
 "metadata": {
  "language_info": {
   "name": "python"
  }
 },
 "nbformat": 4,
 "nbformat_minor": 2
}
